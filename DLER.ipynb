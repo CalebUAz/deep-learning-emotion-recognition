{
 "cells": [
  {
   "cell_type": "code",
   "execution_count": 12,
   "metadata": {},
   "outputs": [],
   "source": [
    "import os\n",
    "import shutil\n",
    "import scipy.io\n",
    "import pickle\n",
    "import numpy as np\n",
    "\n",
    "from datetime import datetime, date, time\n",
    "import pandas as pd"
   ]
  },
  {
   "cell_type": "markdown",
   "metadata": {},
   "source": [
    "Extract data"
   ]
  },
  {
   "cell_type": "code",
   "execution_count": 9,
   "metadata": {},
   "outputs": [],
   "source": [
    "data_path = './Dataset/'\n",
    "if not os.path.exists(data_path):\n",
    "    os.makedirs(data_path)\n",
    "\n",
    "filename = '/SEED-V.zip'\n",
    "shutil.unpack_archive(filename, data_path)"
   ]
  },
  {
   "cell_type": "markdown",
   "metadata": {},
   "source": [
    "Load data"
   ]
  },
  {
   "cell_type": "code",
   "execution_count": 16,
   "metadata": {},
   "outputs": [
    {
     "name": "stdout",
     "output_type": "stream",
     "text": [
      "['data', 'label']\n"
     ]
    }
   ],
   "source": [
    "data_npz = np.load('/deep-learning-emotion-recognition/Dataset/SEED-V/EEG_DE_features/1_123.npz')\n",
    "print(data_npz.files)"
   ]
  },
  {
   "cell_type": "code",
   "execution_count": 17,
   "metadata": {},
   "outputs": [
    {
     "name": "stdout",
     "output_type": "stream",
     "text": [
      "dict_keys([0, 1, 2, 3, 4, 5, 6, 7, 8, 9, 10, 11, 12, 13, 14, 15, 16, 17, 18, 19, 20, 21, 22, 23, 24, 25, 26, 27, 28, 29, 30, 31, 32, 33, 34, 35, 36, 37, 38, 39, 40, 41, 42, 43, 44])\n",
      "dict_keys([0, 1, 2, 3, 4, 5, 6, 7, 8, 9, 10, 11, 12, 13, 14, 15, 16, 17, 18, 19, 20, 21, 22, 23, 24, 25, 26, 27, 28, 29, 30, 31, 32, 33, 34, 35, 36, 37, 38, 39, 40, 41, 42, 43, 44])\n"
     ]
    }
   ],
   "source": [
    "data = pickle.loads(data_npz['data'])\n",
    "label = pickle.loads(data_npz['label'])\n",
    "\n",
    "print(data.keys())\n",
    "print(label.keys())\n",
    "\n",
    "# As we can see, there are 45 keys in both 'data' and 'label'.\n",
    "# Each participant took part in our experiments for 3 sessions, and he/she watched 15 movie clips (i.e. 15 trials) during each session.\n",
    "# Therefore, we could extract 3 * 15 = 45 DE feature matrices.\n",
    "\n",
    "# The key indexes [0, 1, 2, 3, 4, 5, 6, 7, 8, 9, 10, 11, 12, 13, 14] belong to Session 1.\n",
    "# The key indexes [15, 16, 17, 18, 19, 20, 21, 22, 23, 24, 25, 26, 27, 28, 29] belong to Session 2.\n",
    "# The key indexes [30, 31, 32, 33, 34, 35, 36, 37, 38, 39, 40, 41, 42, 43, 44] belong to Session 3."
   ]
  },
  {
   "cell_type": "code",
   "execution_count": 18,
   "metadata": {},
   "outputs": [
    {
     "name": "stdout",
     "output_type": "stream",
     "text": [
      "Session 1 -- Trial 1 -- EmotionLabel : Happy\n",
      "Session 1 -- Trial 2 -- EmotionLabel : Fear\n",
      "Session 1 -- Trial 3 -- EmotionLabel : Neutral\n",
      "Session 1 -- Trial 4 -- EmotionLabel : Sad\n",
      "Session 1 -- Trial 5 -- EmotionLabel : Disgust\n",
      "Session 1 -- Trial 6 -- EmotionLabel : Happy\n",
      "Session 1 -- Trial 7 -- EmotionLabel : Fear\n",
      "Session 1 -- Trial 8 -- EmotionLabel : Neutral\n",
      "Session 1 -- Trial 9 -- EmotionLabel : Sad\n",
      "Session 1 -- Trial 10 -- EmotionLabel : Disgust\n",
      "Session 1 -- Trial 11 -- EmotionLabel : Happy\n",
      "Session 1 -- Trial 12 -- EmotionLabel : Fear\n",
      "Session 1 -- Trial 13 -- EmotionLabel : Neutral\n",
      "Session 1 -- Trial 14 -- EmotionLabel : Sad\n",
      "Session 1 -- Trial 15 -- EmotionLabel : Disgust\n",
      "Session 2 -- Trial 1 -- EmotionLabel : Sad\n",
      "Session 2 -- Trial 2 -- EmotionLabel : Fear\n",
      "Session 2 -- Trial 3 -- EmotionLabel : Neutral\n",
      "Session 2 -- Trial 4 -- EmotionLabel : Disgust\n",
      "Session 2 -- Trial 5 -- EmotionLabel : Happy\n",
      "Session 2 -- Trial 6 -- EmotionLabel : Happy\n",
      "Session 2 -- Trial 7 -- EmotionLabel : Disgust\n",
      "Session 2 -- Trial 8 -- EmotionLabel : Neutral\n",
      "Session 2 -- Trial 9 -- EmotionLabel : Sad\n",
      "Session 2 -- Trial 10 -- EmotionLabel : Fear\n",
      "Session 2 -- Trial 11 -- EmotionLabel : Neutral\n",
      "Session 2 -- Trial 12 -- EmotionLabel : Happy\n",
      "Session 2 -- Trial 13 -- EmotionLabel : Fear\n",
      "Session 2 -- Trial 14 -- EmotionLabel : Sad\n",
      "Session 2 -- Trial 15 -- EmotionLabel : Disgust\n",
      "Session 3 -- Trial 1 -- EmotionLabel : Sad\n",
      "Session 3 -- Trial 2 -- EmotionLabel : Fear\n",
      "Session 3 -- Trial 3 -- EmotionLabel : Neutral\n",
      "Session 3 -- Trial 4 -- EmotionLabel : Disgust\n",
      "Session 3 -- Trial 5 -- EmotionLabel : Happy\n",
      "Session 3 -- Trial 6 -- EmotionLabel : Happy\n",
      "Session 3 -- Trial 7 -- EmotionLabel : Disgust\n",
      "Session 3 -- Trial 8 -- EmotionLabel : Neutral\n",
      "Session 3 -- Trial 9 -- EmotionLabel : Sad\n",
      "Session 3 -- Trial 10 -- EmotionLabel : Fear\n",
      "Session 3 -- Trial 11 -- EmotionLabel : Neutral\n",
      "Session 3 -- Trial 12 -- EmotionLabel : Happy\n",
      "Session 3 -- Trial 13 -- EmotionLabel : Fear\n",
      "Session 3 -- Trial 14 -- EmotionLabel : Sad\n",
      "Session 3 -- Trial 15 -- EmotionLabel : Disgust\n"
     ]
    }
   ],
   "source": [
    "# We will print the emotion labels for each trial.\n",
    "label_dict = {0:'Disgust', 1:'Fear', 2:'Sad', 3:'Neutral', 4:'Happy'}\n",
    "for i in range(45):\n",
    "    print('Session {} -- Trial {} -- EmotionLabel : {}'.format(i//15+1, i%15+1, label_dict[label[i][0]]))"
   ]
  },
  {
   "cell_type": "code",
   "execution_count": null,
   "metadata": {},
   "outputs": [],
   "source": []
  }
 ],
 "metadata": {
  "kernelspec": {
   "display_name": "Python 3.8.13",
   "language": "python",
   "name": "python3"
  },
  "language_info": {
   "codemirror_mode": {
    "name": "ipython",
    "version": 3
   },
   "file_extension": ".py",
   "mimetype": "text/x-python",
   "name": "python",
   "nbconvert_exporter": "python",
   "pygments_lexer": "ipython3",
   "version": "3.8.13"
  },
  "vscode": {
   "interpreter": {
    "hash": "ecc75e9b0e8c20a09a26f2f32f93638cb9c329ab0de3c327a3b2872b6eef10db"
   }
  }
 },
 "nbformat": 4,
 "nbformat_minor": 2
}
